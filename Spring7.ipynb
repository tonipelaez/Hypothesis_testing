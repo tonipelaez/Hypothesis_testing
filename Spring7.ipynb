{
 "cells": [
  {
   "cell_type": "markdown",
   "metadata": {},
   "source": [
    "## Spring 7: Haciendo preguntas\n",
    "\n",
    "Usaremos los datos de deporte anteriores para realizar algun ejemplo.\n"
   ]
  },
  {
   "cell_type": "code",
   "execution_count": 1,
   "metadata": {},
   "outputs": [],
   "source": [
    "import pandas as pd\n",
    "import matplotlib.pyplot as plt \n",
    "import numpy as np\n",
    "import scipy \n",
    "from scipy import stats\n",
    "import seaborn as sns\n",
    "\n"
   ]
  },
  {
   "cell_type": "code",
   "execution_count": 2,
   "metadata": {},
   "outputs": [
    {
     "name": "stdout",
     "output_type": "stream",
     "text": [
      "['SP1(0).csv', 'SP1(1).csv', 'SP1(2).csv', 'SP1(3).csv', 'SP1(4).csv', 'SP1(5).csv', 'SP1(6).csv', 'SP1(7).csv', 'SP1(8).csv', 'SP1(9).csv', 'SP1(10).csv', 'SP1(11).csv', 'SP1(12).csv', 'SP1(13).csv', 'SP1(14).csv', 'SP1(15).csv', 'SP1(16).csv', 'SP1(17).csv', 'SP1(18).csv', 'SP1(19).csv', 'SP1(20).csv', 'SP1(21).csv', 'SP1(22).csv', 'SP1(23).csv', 'SP1(24).csv', 'SP1(25).csv', 'SP1(26).csv', 'SP1(27).csv', 'SP1(28).csv', 'SP1(29).csv', 'SP1(30).csv']\n"
     ]
    }
   ],
   "source": [
    "archivos=list()\n",
    "for i in range(31):\n",
    "    archivos.append(\"SP1(\"+str(i)+\").csv\")\n",
    "print(archivos)"
   ]
  },
  {
   "cell_type": "code",
   "execution_count": 3,
   "metadata": {},
   "outputs": [],
   "source": [
    "datos_liga=pd.read_csv(\"./datos/\"+archivos[0])"
   ]
  },
  {
   "cell_type": "code",
   "execution_count": 4,
   "metadata": {},
   "outputs": [],
   "source": [
    "for i in range(1,25):\n",
    "    temp=pd.read_csv(\"./datos/\"+archivos[i])\n",
    "    datos_liga=datos_liga.append(temp,ignore_index=True)"
   ]
  },
  {
   "cell_type": "markdown",
   "metadata": {},
   "source": [
    "Bien , todo lo mismo que en anteriores capitulos. Empezemos directamente con una cuestión y veamos como plantearla.:_¿existe el efecto campo?_  \n",
    "Ahora plantearemos las hipótesis de forma genérica , y más adelante veremos de hacerlo de forma más _\"Data Science\"_\n",
    "\n",
    "H0: _\"Jugar como local no tiene efecto en el resultado\"_  \n",
    "H1: _\"Jugar como local tiene un efecto en el resultado\"_"
   ]
  },
  {
   "cell_type": "markdown",
   "metadata": {},
   "source": [
    "#### Seleccionando datos\n",
    "\n",
    "Como venimos haciendo nos olvidamos de toda la sección de apuestas , no nos interesan ni fechas ni horarios, y solo tenemos interés por los resultados finales. con todo ello crearemos un nuevo DataFrame con los campos que nos sean útiles para determinar la validez de la hipótesis."
   ]
  },
  {
   "cell_type": "markdown",
   "metadata": {},
   "source": [
    "Creamos dataframe con los campos que nos interesan y cambiamos en nombre de las columnas."
   ]
  },
  {
   "cell_type": "code",
   "execution_count": 5,
   "metadata": {},
   "outputs": [],
   "source": [
    "datos_hipotesis=datos_liga[[\"FTHG\",\"FTAG\"]]\n",
    "datos_hipotesis=datos_hipotesis.rename(columns={\"FTHG\":\"Goles Local\",\"FTAG\":\"Goles visitante\"})"
   ]
  },
  {
   "cell_type": "code",
   "execution_count": 6,
   "metadata": {},
   "outputs": [
    {
     "data": {
      "text/plain": [
       "Goles Local        int64\n",
       "Goles visitante    int64\n",
       "dtype: object"
      ]
     },
     "execution_count": 6,
     "metadata": {},
     "output_type": "execute_result"
    }
   ],
   "source": [
    "datos_hipotesis.dtypes"
   ]
  },
  {
   "cell_type": "markdown",
   "metadata": {},
   "source": [
    "Después creamos dos arrays: el primero con los resultados de las diferencias entre los goles locales menos visitantes , es decir , en positivo cuando gana el local y en negativo cuando gana el visitante.El segundo con la suma de goles totales por partido."
   ]
  },
  {
   "cell_type": "code",
   "execution_count": 7,
   "metadata": {},
   "outputs": [],
   "source": [
    "datos_hipotesis[\"dif_goles\"]=datos_liga[\"FTHG\"]-datos_liga[\"FTAG\"]"
   ]
  },
  {
   "cell_type": "code",
   "execution_count": 8,
   "metadata": {},
   "outputs": [],
   "source": [
    "total_gol=[datos_hipotesis[\"Goles Local\"]+datos_hipotesis[\"Goles visitante\"]]"
   ]
  },
  {
   "cell_type": "code",
   "execution_count": 9,
   "metadata": {},
   "outputs": [
    {
     "data": {
      "text/plain": [
       "<bound method NDFrame.describe of       Goles Local  Goles visitante  dif_goles\n",
       "0               1                0          1\n",
       "1               1                1          0\n",
       "2               1                1          0\n",
       "3               1                4         -3\n",
       "4               0                0          0\n",
       "...           ...              ...        ...\n",
       "9495            5                2          3\n",
       "9496            1                1          0\n",
       "9497            1                0          1\n",
       "9498            4                1          3\n",
       "9499            3                1          2\n",
       "\n",
       "[9500 rows x 3 columns]>"
      ]
     },
     "execution_count": 9,
     "metadata": {},
     "output_type": "execute_result"
    }
   ],
   "source": [
    "datos_hipotesis.describe"
   ]
  },
  {
   "cell_type": "markdown",
   "metadata": {},
   "source": [
    "Miramos la correlación entre los goles totales y la diferencia de goles con los goles de los equipos cuando son visitante y local."
   ]
  },
  {
   "cell_type": "code",
   "execution_count": 10,
   "metadata": {},
   "outputs": [
    {
     "name": "stdout",
     "output_type": "stream",
     "text": [
      "Coeficiente relación entre diferencia de goles y goles del equipo local : 0.7811973033873628\n"
     ]
    }
   ],
   "source": [
    "print(\"Coeficiente relación entre diferencia de goles y goles del equipo local : \"+str(np.corrcoef(datos_hipotesis[\"dif_goles\"],datos_hipotesis[\"Goles Local\"])[0,1]))"
   ]
  },
  {
   "cell_type": "code",
   "execution_count": 11,
   "metadata": {},
   "outputs": [
    {
     "name": "stdout",
     "output_type": "stream",
     "text": [
      "Coeficiente relación entre diferencia de goles y goles del equipo visitante : -0.675901285134082\n"
     ]
    }
   ],
   "source": [
    "print(\"Coeficiente relación entre diferencia de goles y goles del equipo visitante : \"+str(np.corrcoef(datos_hipotesis[\"dif_goles\"],datos_hipotesis[\"Goles visitante\"])[0,1]))"
   ]
  },
  {
   "cell_type": "code",
   "execution_count": 12,
   "metadata": {},
   "outputs": [
    {
     "name": "stdout",
     "output_type": "stream",
     "text": [
      "Coeficiente relación entre los goles totales y goles del equipo local : 0.7445130354363688\n"
     ]
    }
   ],
   "source": [
    "print(\"Coeficiente relación entre los goles totales y goles del equipo local : \"+str(np.corrcoef(total_gol,datos_hipotesis[\"Goles Local\"])[0,1]))"
   ]
  },
  {
   "cell_type": "code",
   "execution_count": 13,
   "metadata": {},
   "outputs": [
    {
     "name": "stdout",
     "output_type": "stream",
     "text": [
      "Coeficiente relación entre los goles totales y goles del equipo visitante : 0.6154991834105717\n"
     ]
    }
   ],
   "source": [
    "print(\"Coeficiente relación entre los goles totales y goles del equipo visitante : \"+str(np.corrcoef(total_gol,datos_hipotesis[\"Goles visitante\"])[0,1]))"
   ]
  },
  {
   "cell_type": "markdown",
   "metadata": {},
   "source": [
    "## Discusión:\n",
    "En el hecho de los coeficientes de correlación sean ligeramente mejor para los goles del equipo local vs los goles del equipo visitante , nos podría dar indicios de que la hipótesis H1 tiene una pequeña parte de razón . PERO se podría objetar varios problemas en el tratamiento que hemos hecho de los datos , principalmente nos centraríamos en 2 aspectos:\n",
    "\n",
    "    1-Las variables de incremeto de goles/goles totales no són independientes de los campos goles local/visitante.\n",
    "    2-La normalidad de los datos de goles (goles totales) no son demasiado buenas.\n",
    "\n",
    "Estos aspectos van en contra de los requerimientos para el uso del coeficiente de correlación de Pearson.Por lo tanto quedan en duda cualquier conclusión que se pueda sacar de ellos. Si miramos la distribución del histograma de la diferencia de goles , observamos de forma cualittiva que esta ligeramente desplazada en la parte positiva , lo que podría corroborar la hipotesis H1.\n",
    "Vemos esta asimetria a la derecha de forma gráfica :"
   ]
  },
  {
   "cell_type": "code",
   "execution_count": 14,
   "metadata": {},
   "outputs": [
    {
     "data": {
      "text/plain": [
       "(array([   8.,   48.,  110., 1009., 1518., 4444., 1881.,  308.,  157.,\n",
       "          17.]),\n",
       " array([-8. , -6.4, -4.8, -3.2, -1.6,  0. ,  1.6,  3.2,  4.8,  6.4,  8. ]),\n",
       " <BarContainer object of 10 artists>)"
      ]
     },
     "execution_count": 14,
     "metadata": {},
     "output_type": "execute_result"
    },
    {
     "data": {
      "image/png": "[encoded data removed]",
      "text/plain": [
       "<Figure size 432x288 with 1 Axes>"
      ]
     },
     "metadata": {
      "needs_background": "light"
     },
     "output_type": "display_data"
    }
   ],
   "source": [
    "\n",
    "plt.hist(datos_hipotesis[\"dif_goles\"])"
   ]
  },
  {
   "cell_type": "markdown",
   "metadata": {},
   "source": [
    "Veamoslo más bonito con la libreria seaborn."
   ]
  },
  {
   "cell_type": "code",
   "execution_count": 15,
   "metadata": {},
   "outputs": [
    {
     "name": "stderr",
     "output_type": "stream",
     "text": [
      "c:\\Users\\anton\\anaconda3\\lib\\site-packages\\seaborn\\distributions.py:2619: FutureWarning: `distplot` is a deprecated function and will be removed in a future version. Please adapt your code to use either `displot` (a figure-level function with similar flexibility) or `histplot` (an axes-level function for histograms).\n",
      "  warnings.warn(msg, FutureWarning)\n"
     ]
    },
    {
     "data": {
      "image/png": "[encoded data removed]",
      "text/plain": [
       "<Figure size 864x504 with 1 Axes>"
      ]
     },
     "metadata": {
      "needs_background": "light"
     },
     "output_type": "display_data"
    }
   ],
   "source": [
    "plt.figure(figsize=(12,7))\n",
    "plt.title(\"Diferencia goles locales Vs Visitantes\")\n",
    "\n",
    "sns.distplot(datos_hipotesis[\"dif_goles\"])\n",
    "plt.xlim(-10,10)\n",
    "plt.show()"
   ]
  },
  {
   "cell_type": "markdown",
   "metadata": {},
   "source": [
    "Y de forma cuantitativa , a traves del test Skewness:"
   ]
  },
  {
   "cell_type": "code",
   "execution_count": 16,
   "metadata": {},
   "outputs": [
    {
     "name": "stdout",
     "output_type": "stream",
     "text": [
      "0.07203345144355015\n"
     ]
    }
   ],
   "source": [
    "print(stats.skew(datos_hipotesis[\"dif_goles\"]))"
   ]
  },
  {
   "cell_type": "markdown",
   "metadata": {},
   "source": [
    "\n",
    "El valor del test Skewness nos da una medidad de la simetria de la distribución, si la distribución fuera normal el valor seria 0. Si es negativa los datos estarían desplazados a la izquierda de la media y si es positiva , como en nuestro caso , los datos estan desplazados a la derecha.\n",
    "Por lo tanto , confirma nuestras intuiciones."
   ]
  },
  {
   "cell_type": "markdown",
   "metadata": {},
   "source": [
    "### Discusión 2: aprovechando los datos.\n",
    "\n",
    "Asumimos que los datos se acercan a la normalidad lo suficiente para usar herramientas estadísticas , como la t-student para una muestra.\n",
    "Usando esta herramienta , podemos proceder a reimplementar las hipótesis de una forma más técnica y concreta.\n",
    "\n",
    "_Hipótesis H0_: no existe factor campo. Si no existe el factor campo la diferencia entre jugar como local o visitante seria nula , si nuestra población sigue una distribución normal , eso significaría que los resultados deberían ser homogéneos y la diferencia de goles entre jugar como local y como visitante deberia ser 0, y por lo tanto la media sería 0.\n",
    "\n",
    "_Hipótesis H0_:La media de la diferencia de goles entre locales y visitantes es 0.\n",
    "\n",
    "\n",
    "H1: existe efecto campo . Entonces , por el razonamiento anterior la media debería ser diferente de cero (En nuestro caso si existe efecto equipo local, deberia ser positivo. Pero lo veremos más adelante  ). Por tanto redefinimos H1:\n",
    "\n",
    "_Hipótesis H1_:La media de la diferencia de goles entre locales y visitantes es diferente de 0.\n",
    "\n",
    "Ahora cuantifiquemos estas hipotesis:\n",
    "\n"
   ]
  },
  {
   "cell_type": "markdown",
   "metadata": {},
   "source": [
    "Primero vemos un resumen estadístico del campo diferencia de goles:"
   ]
  },
  {
   "cell_type": "code",
   "execution_count": 17,
   "metadata": {},
   "outputs": [
    {
     "data": {
      "text/plain": [
       "count    9500.000000\n",
       "mean        0.436105\n",
       "std         1.831237\n",
       "min        -8.000000\n",
       "25%        -1.000000\n",
       "50%         0.000000\n",
       "75%         1.000000\n",
       "max         8.000000\n",
       "Name: dif_goles, dtype: float64"
      ]
     },
     "execution_count": 17,
     "metadata": {},
     "output_type": "execute_result"
    }
   ],
   "source": [
    "datos_hipotesis[\"dif_goles\"].describe()\n"
   ]
  },
  {
   "cell_type": "markdown",
   "metadata": {},
   "source": [
    "Ahora usaremos las herramientas de la libreria Scipy para calcular los p-values , usando el t test. En este caso en la hipótesis H1 hemos definido que la media es diferente de un valor , usaremos el test de 2 colas , es decir , valores mayores y menores al que ponemos a prueba.\n"
   ]
  },
  {
   "cell_type": "code",
   "execution_count": 18,
   "metadata": {},
   "outputs": [
    {
     "data": {
      "text/plain": [
       "Ttest_1sampResult(statistic=23.211789043076642, pvalue=5.60955494899423e-116)"
      ]
     },
     "execution_count": 18,
     "metadata": {},
     "output_type": "execute_result"
    }
   ],
   "source": [
    "stats.ttest_1samp(datos_hipotesis[\"dif_goles\"],popmean=0)"
   ]
  },
  {
   "cell_type": "markdown",
   "metadata": {},
   "source": [
    "Vemos que el valor P-value que nos da el test es << 0.05 , que es el valor de aceptación que hemos decidido. Así podemos rechazar la H0.   \n",
    "Por ahora bien , parece que todo concuerda. Vamos a hacer otra reinterpretación de hipótesis para comprobarlo.  \n",
    "Lo ponemos fácil y usaremos el valor de la media que hemos obtenido antes:"
   ]
  },
  {
   "cell_type": "markdown",
   "metadata": {},
   "source": [
    "_H0_ : La media de la diferencia de goles entre locales y visitantes es >=0.44 .  \n",
    "_H1_ : La media de la diferencia de goles entre locales y visitantes es < 0.4 ."
   ]
  },
  {
   "cell_type": "code",
   "execution_count": 19,
   "metadata": {},
   "outputs": [
    {
     "data": {
      "text/plain": [
       "Ttest_1sampResult(statistic=-0.20729814013850845, pvalue=0.8357814701386499)"
      ]
     },
     "execution_count": 19,
     "metadata": {},
     "output_type": "execute_result"
    }
   ],
   "source": [
    "stats.ttest_1samp(datos_hipotesis[\"dif_goles\"],0.44)"
   ]
  },
  {
   "cell_type": "markdown",
   "metadata": {},
   "source": [
    "En este caso como hemos planteado la hipótesis H1 como si el valor puede ser menor a la media , usaremos el valor de p-value para 1 cola.  \n",
    "En nuestro caso , asumimos cierta simetria y el valor de p lo podemos aproximar como pvalue/2= 0.418 aprox.  \n",
    "Como el valor obtenido p-value=0.42 es > p=0.05 , la hipótesis H0 no puede ser refutada. Por lo tanto , existe fundamentos de que haya cierto efecto campo , en concreto cierta ventaja al jugar como local.\n",
    "\n",
    "### Conclusión.\n",
    "\n",
    "Hemos podido observar que las herramientas estadísticas nos dan poderosas herramientas para refutar/aceptar hipótesis y obtener conclusiones. Pero tambien hemos visto que hay que tener cuidado al usarlas , ya que si no comprobamos los requísitos que exigen dichas herramientas , podemos fácilmente llegar a conclusiones no suficientemente fundamentadas o , peor aún , erróneas. Por lo tanto es necesario un conocimiento y tratamiento previo de los datos , de una forma estadísticamente fundamentada , para poder usar las herramientas estadísticas para la obtención de conlusiones válidas."
   ]
  }
 ],
 "metadata": {
  "interpreter": {
   "hash": "7a4880536bc750f262d1b458e4fd4d611315d3098d58b77bd9c89b3237b9ab47"
  },
  "kernelspec": {
   "display_name": "Python 3.9.7 ('base')",
   "language": "python",
   "name": "python3"
  },
  "language_info": {
   "codemirror_mode": {
    "name": "ipython",
    "version": 3
   },
   "file_extension": ".py",
   "mimetype": "text/x-python",
   "name": "python",
   "nbconvert_exporter": "python",
   "pygments_lexer": "ipython3",
   "version": "3.9.7"
  },
  "orig_nbformat": 4
 },
 "nbformat": 4,
 "nbformat_minor": 2
}
