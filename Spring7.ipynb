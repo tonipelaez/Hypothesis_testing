{
 "cells": [
  {
   "cell_type": "markdown",
   "metadata": {},
   "source": [
    "## Spring 7: Haciendo preguntas\n",
    "\n",
    "Usaremos los datos de deporte anteriores para realizar algun ejemplo.\n"
   ]
  },
  {
   "cell_type": "code",
   "execution_count": 36,
   "metadata": {},
   "outputs": [],
   "source": [
    "import pandas as pd\n",
    "import matplotlib.pyplot as plt \n",
    "import numpy as np\n"
   ]
  },
  {
   "cell_type": "code",
   "execution_count": 37,
   "metadata": {},
   "outputs": [
    {
     "name": "stdout",
     "output_type": "stream",
     "text": [
      "['SP1(0).csv', 'SP1(1).csv', 'SP1(2).csv', 'SP1(3).csv', 'SP1(4).csv', 'SP1(5).csv', 'SP1(6).csv', 'SP1(7).csv', 'SP1(8).csv', 'SP1(9).csv', 'SP1(10).csv', 'SP1(11).csv', 'SP1(12).csv', 'SP1(13).csv', 'SP1(14).csv', 'SP1(15).csv', 'SP1(16).csv', 'SP1(17).csv', 'SP1(18).csv', 'SP1(19).csv', 'SP1(20).csv', 'SP1(21).csv', 'SP1(22).csv', 'SP1(23).csv', 'SP1(24).csv', 'SP1(25).csv', 'SP1(26).csv', 'SP1(27).csv', 'SP1(28).csv', 'SP1(29).csv', 'SP1(30).csv']\n"
     ]
    }
   ],
   "source": [
    "archivos=list()\n",
    "for i in range(31):\n",
    "    archivos.append(\"SP1(\"+str(i)+\").csv\")\n",
    "print(archivos)"
   ]
  },
  {
   "cell_type": "code",
   "execution_count": 38,
   "metadata": {},
   "outputs": [],
   "source": [
    "datos_liga=pd.read_csv(\"./datos/\"+archivos[0])"
   ]
  },
  {
   "cell_type": "code",
   "execution_count": 39,
   "metadata": {},
   "outputs": [],
   "source": [
    "for i in range(1,25):\n",
    "    temp=pd.read_csv(\"./datos/\"+archivos[i])\n",
    "    datos_liga=datos_liga.append(temp,ignore_index=True)"
   ]
  },
  {
   "cell_type": "markdown",
   "metadata": {},
   "source": [
    "Bien , todo lo mismo que en anteriores capitulos. Empezemos directamente con una cuestión y veamos como plantearla.¿existe el efecto campo?\n",
    "\n",
    "H0: _\"Jugar como local no tiene efecto en el resultado\"_  \n",
    "H1: _\"Jugar como local tiene un efecto en el resultado\"_"
   ]
  },
  {
   "cell_type": "markdown",
   "metadata": {},
   "source": [
    "#### Seleccionando datos\n",
    "\n",
    "Como venimos haciendo nos olvidamos de toda la sección de apuestas , no nos interesan ni fechas ni horarios, y solo tenemos interés por los resultados finales. con todo ello crearemos un nuevo DataFrame con los campos que nos sean útiles para determinar la validez de la hipótesis."
   ]
  },
  {
   "cell_type": "markdown",
   "metadata": {},
   "source": [
    "Creamos dataframe con los campos que nos interesan y cambiamos en nombre de las columnas"
   ]
  },
  {
   "cell_type": "code",
   "execution_count": 40,
   "metadata": {},
   "outputs": [],
   "source": [
    "datos_hipotesis=datos_liga[[\"FTHG\",\"FTAG\"]]\n",
    "datos_hipotesis=datos_hipotesis.rename(columns={\"FTHG\":\"Goles Local\",\"FTAG\":\"Goles visitante\"})"
   ]
  },
  {
   "cell_type": "markdown",
   "metadata": {},
   "source": [
    "Después creamos dos arrays: el primero con los resultados de las diferencias entre los goles locales menos visitantes , es decir , en positivo cuando gana el local y en negativo cuando gana el visitante.El segundo con la suma de goles totales por partido."
   ]
  },
  {
   "cell_type": "code",
   "execution_count": 41,
   "metadata": {},
   "outputs": [],
   "source": [
    "dif_goles=[datos_hipotesis[\"Goles Local\"]-datos_hipotesis[\"Goles visitante\"]]"
   ]
  },
  {
   "cell_type": "code",
   "execution_count": 42,
   "metadata": {},
   "outputs": [],
   "source": [
    "total_gol=[datos_hipotesis[\"Goles Local\"]+datos_hipotesis[\"Goles visitante\"]]"
   ]
  },
  {
   "cell_type": "code",
   "execution_count": 43,
   "metadata": {},
   "outputs": [
    {
     "data": {
      "text/plain": [
       "<bound method NDFrame.describe of       Goles Local  Goles visitante\n",
       "0               1                0\n",
       "1               1                1\n",
       "2               1                1\n",
       "3               1                4\n",
       "4               0                0\n",
       "...           ...              ...\n",
       "9495            5                2\n",
       "9496            1                1\n",
       "9497            1                0\n",
       "9498            4                1\n",
       "9499            3                1\n",
       "\n",
       "[9500 rows x 2 columns]>"
      ]
     },
     "execution_count": 43,
     "metadata": {},
     "output_type": "execute_result"
    }
   ],
   "source": [
    "datos_hipotesis.describe"
   ]
  },
  {
   "cell_type": "markdown",
   "metadata": {},
   "source": [
    "Miramos la correlación entre los goles totales y la diferencia de goles con los goles de los equipos cuando son visitante y local."
   ]
  },
  {
   "cell_type": "markdown",
   "metadata": {},
   "source": []
  },
  {
   "cell_type": "code",
   "execution_count": 44,
   "metadata": {},
   "outputs": [
    {
     "name": "stdout",
     "output_type": "stream",
     "text": [
      "Coeficiente relación entre diferencia de goles y goles del equipo local : 0.7811973033873628\n"
     ]
    }
   ],
   "source": [
    "print(\"Coeficiente relación entre diferencia de goles y goles del equipo local : \"+str(np.corrcoef(dif_goles,datos_hipotesis[\"Goles Local\"])[0,1]))"
   ]
  },
  {
   "cell_type": "code",
   "execution_count": 45,
   "metadata": {},
   "outputs": [
    {
     "name": "stdout",
     "output_type": "stream",
     "text": [
      "Coeficiente relación entre diferencia de goles y goles del equipo visitante : -0.675901285134082\n"
     ]
    }
   ],
   "source": [
    "print(\"Coeficiente relación entre diferencia de goles y goles del equipo visitante : \"+str(np.corrcoef(dif_goles,datos_hipotesis[\"Goles visitante\"])[0,1]))"
   ]
  },
  {
   "cell_type": "code",
   "execution_count": 46,
   "metadata": {},
   "outputs": [
    {
     "name": "stdout",
     "output_type": "stream",
     "text": [
      "Coeficiente relación entre los goles totales y goles del equipo local : 0.7445130354363688\n"
     ]
    }
   ],
   "source": [
    "print(\"Coeficiente relación entre los goles totales y goles del equipo local : \"+str(np.corrcoef(total_gol,datos_hipotesis[\"Goles Local\"])[0,1]))"
   ]
  },
  {
   "cell_type": "code",
   "execution_count": 47,
   "metadata": {},
   "outputs": [
    {
     "name": "stdout",
     "output_type": "stream",
     "text": [
      "Coeficiente relación entre los goles totales y goles del equipo visitante : 0.6154991834105717\n"
     ]
    }
   ],
   "source": [
    "print(\"Coeficiente relación entre los goles totales y goles del equipo visitante : \"+str(np.corrcoef(total_gol,datos_hipotesis[\"Goles visitante\"])[0,1]))"
   ]
  },
  {
   "cell_type": "markdown",
   "metadata": {},
   "source": [
    "## Discusión:\n",
    "El coeficiente de relación entre la diferencia de goles vs goles visitantes tiene sentido ya que al hacer la diferencia de goles entre los locales y visitantes , los resultados que favorecen al visitante estan en negativo. En el hecho de los coeficientes de correlación sean ligeramente mejor para los goles del equipo local vs los goles del equipo visitante , nos podría dar indicios de que la hipótesis H1 tiene una pequeña parte de razón . PERO se podría objetar varios problemas en el tratamiento que hemos hecho de los datos , principalmente nos centraríamos en 2 aspectos:\n",
    "\n",
    "    1-Las variables de incremeto de goles/goles totales no són independientes de los campos goles local/visitante.\n",
    "    2-La normalidad de los datos de goles no son demasiado buenas.\n",
    "\n",
    "Estos aspectos van en contra de los requerimientos para el uso del coeficieciente de correlación de Pearson.Por lo tanto quedan en duda cualquier conclusión que se pueda sacar de ellos, aunque si miramos la distribución del histograma de la diferencia de goles , observamos de forma cualittiva que esta ligeramente desplazada en la parte postiva , lo que podría corroborar la hipotesis H1."
   ]
  },
  {
   "cell_type": "code",
   "execution_count": 48,
   "metadata": {},
   "outputs": [
    {
     "data": {
      "text/plain": [
       "(array([   8.,   48.,  110., 1009., 1518., 4444., 1881.,  308.,  157.,\n",
       "          17.]),\n",
       " array([-8. , -6.4, -4.8, -3.2, -1.6,  0. ,  1.6,  3.2,  4.8,  6.4,  8. ]),\n",
       " <BarContainer object of 10 artists>)"
      ]
     },
     "execution_count": 48,
     "metadata": {},
     "output_type": "execute_result"
    },
    {
     "data": {
      "image/png": "[encoded data removed]",
      "text/plain": [
       "<Figure size 432x288 with 1 Axes>"
      ]
     },
     "metadata": {
      "needs_background": "light"
     },
     "output_type": "display_data"
    }
   ],
   "source": [
    "\n",
    "plt.hist(dif_goles)"
   ]
  },
  {
   "cell_type": "markdown",
   "metadata": {},
   "source": [
    "## Comenzando de nuevo\n",
    "Miremos los datos a ver si encontramos unos datos de calidad para sacar algunas conclusiones.Empezemos haciendo una nueva cuestión :¿Corners , útiles o inútiles?\n",
    "\n",
    "H0 _\"Los corners no influyen en el resultado\"_\n",
    "H1 _\"Los corners influyen en el resultado\"_\n",
    "\n",
    "Empezamos volviendo a crear un dataframe con los datos que nos puedan ser utiles. En este caso , usaremos los sumatorios de los campos y no diferenciaremos entre local y visitante , ya que nuestra pregunta se basa en la relación en general y no en otros efectos que puedan tener relación con si el equipo es local/visitante.\n"
   ]
  },
  {
   "cell_type": "code",
   "execution_count": 49,
   "metadata": {},
   "outputs": [],
   "source": [
    "datos_hipotesis=datos_liga[[\"FTHG\",\"FTAG\",\"HS\",\"AS\",\"HC\",\"AC\"]]"
   ]
  },
  {
   "cell_type": "code",
   "execution_count": 50,
   "metadata": {},
   "outputs": [
    {
     "name": "stderr",
     "output_type": "stream",
     "text": [
      "C:\\Users\\anton\\AppData\\Local\\Temp/ipykernel_124/2430578025.py:1: SettingWithCopyWarning: \n",
      "A value is trying to be set on a copy of a slice from a DataFrame.\n",
      "Try using .loc[row_indexer,col_indexer] = value instead\n",
      "\n",
      "See the caveats in the documentation: https://pandas.pydata.org/pandas-docs/stable/user_guide/indexing.html#returning-a-view-versus-a-copy\n",
      "  datos_hipotesis[\"Goles\"]=datos_hipotesis[\"FTHG\"]+datos_hipotesis[\"FTAG\"]\n",
      "C:\\Users\\anton\\AppData\\Local\\Temp/ipykernel_124/2430578025.py:2: SettingWithCopyWarning: \n",
      "A value is trying to be set on a copy of a slice from a DataFrame.\n",
      "Try using .loc[row_indexer,col_indexer] = value instead\n",
      "\n",
      "See the caveats in the documentation: https://pandas.pydata.org/pandas-docs/stable/user_guide/indexing.html#returning-a-view-versus-a-copy\n",
      "  datos_hipotesis[\"chutes\"]=datos_hipotesis[\"HS\"]+datos_hipotesis[\"AS\"]\n",
      "C:\\Users\\anton\\AppData\\Local\\Temp/ipykernel_124/2430578025.py:3: SettingWithCopyWarning: \n",
      "A value is trying to be set on a copy of a slice from a DataFrame.\n",
      "Try using .loc[row_indexer,col_indexer] = value instead\n",
      "\n",
      "See the caveats in the documentation: https://pandas.pydata.org/pandas-docs/stable/user_guide/indexing.html#returning-a-view-versus-a-copy\n",
      "  datos_hipotesis[\"corners\"]=datos_hipotesis[\"HC\"]+datos_hipotesis[\"AC\"]\n",
      "C:\\Users\\anton\\AppData\\Local\\Temp/ipykernel_124/2430578025.py:4: SettingWithCopyWarning: \n",
      "A value is trying to be set on a copy of a slice from a DataFrame.\n",
      "Try using .loc[row_indexer,col_indexer] = value instead\n",
      "\n",
      "See the caveats in the documentation: https://pandas.pydata.org/pandas-docs/stable/user_guide/indexing.html#returning-a-view-versus-a-copy\n",
      "  datos_hipotesis[\"chutes_centrados\"]=datos_liga[\"HST\"]+datos_liga[\"AST\"]\n",
      "C:\\Users\\anton\\AppData\\Local\\Temp/ipykernel_124/2430578025.py:5: SettingWithCopyWarning: \n",
      "A value is trying to be set on a copy of a slice from a DataFrame.\n",
      "Try using .loc[row_indexer,col_indexer] = value instead\n",
      "\n",
      "See the caveats in the documentation: https://pandas.pydata.org/pandas-docs/stable/user_guide/indexing.html#returning-a-view-versus-a-copy\n",
      "  datos_hipotesis[\"faltas\"]=datos_liga[\"HF\"]+datos_liga[\"AF\"]\n"
     ]
    }
   ],
   "source": [
    "datos_hipotesis[\"Goles\"]=datos_hipotesis[\"FTHG\"]+datos_hipotesis[\"FTAG\"]\n",
    "datos_hipotesis[\"chutes\"]=datos_hipotesis[\"HS\"]+datos_hipotesis[\"AS\"]\n",
    "datos_hipotesis[\"corners\"]=datos_hipotesis[\"HC\"]+datos_hipotesis[\"AC\"]\n",
    "datos_hipotesis[\"chutes_centrados\"]=datos_liga[\"HST\"]+datos_liga[\"AST\"]\n",
    "datos_hipotesis[\"faltas\"]=datos_liga[\"HF\"]+datos_liga[\"AF\"]"
   ]
  },
  {
   "cell_type": "markdown",
   "metadata": {},
   "source": [
    "Veamos de forma rápida los histogramas de los datos de las columnas _\"corners\"_ y _\"chutes\"_ :"
   ]
  },
  {
   "cell_type": "code",
   "execution_count": 51,
   "metadata": {},
   "outputs": [
    {
     "data": {
      "text/plain": [
       "(array([  48.,  324., 1779., 2102., 2162., 2033.,  623.,  355.,   62.,\n",
       "          12.]),\n",
       " array([ 0. ,  2.4,  4.8,  7.2,  9.6, 12. , 14.4, 16.8, 19.2, 21.6, 24. ]),\n",
       " <BarContainer object of 10 artists>)"
      ]
     },
     "execution_count": 51,
     "metadata": {},
     "output_type": "execute_result"
    },
    {
     "data": {
      "image/png": "[encoded data removed]",
      "text/plain": [
       "<Figure size 432x288 with 1 Axes>"
      ]
     },
     "metadata": {
      "needs_background": "light"
     },
     "output_type": "display_data"
    }
   ],
   "source": [
    "plt.hist(datos_hipotesis[\"corners\"])"
   ]
  },
  {
   "cell_type": "code",
   "execution_count": 52,
   "metadata": {},
   "outputs": [
    {
     "data": {
      "text/plain": [
       "(array([  17.,  284., 1657., 2399., 2999., 1489.,  442.,  176.,   31.,\n",
       "           6.]),\n",
       " array([ 5. ,  9.7, 14.4, 19.1, 23.8, 28.5, 33.2, 37.9, 42.6, 47.3, 52. ]),\n",
       " <BarContainer object of 10 artists>)"
      ]
     },
     "execution_count": 52,
     "metadata": {},
     "output_type": "execute_result"
    },
    {
     "data": {
      "image/png": "[encoded data removed]",
      "text/plain": [
       "<Figure size 432x288 with 1 Axes>"
      ]
     },
     "metadata": {
      "needs_background": "light"
     },
     "output_type": "display_data"
    }
   ],
   "source": [
    "plt.hist(datos_hipotesis[\"chutes\"])"
   ]
  },
  {
   "cell_type": "markdown",
   "metadata": {},
   "source": [
    "Si los miramos con cariño , podemos aceptar cierta normalidad en los datos. "
   ]
  },
  {
   "cell_type": "code",
   "execution_count": 53,
   "metadata": {},
   "outputs": [
    {
     "name": "stdout",
     "output_type": "stream",
     "text": [
      "Coeficiente relación entre goles y chutes totales : 0.2880977230012344\n"
     ]
    }
   ],
   "source": [
    "print(\"Coeficiente relación entre goles y chutes totales : \"+str(np.corrcoef(datos_hipotesis[\"Goles\"],datos_hipotesis[\"chutes\"])[0,1]))"
   ]
  },
  {
   "cell_type": "code",
   "execution_count": 54,
   "metadata": {},
   "outputs": [
    {
     "name": "stdout",
     "output_type": "stream",
     "text": [
      "Coeficiente relación entre  goles y corners : -0.013610167817115826\n"
     ]
    }
   ],
   "source": [
    "print(\"Coeficiente relación entre  goles y corners : \"+str(np.corrcoef(datos_hipotesis[\"Goles\"],datos_hipotesis[\"corners\"])[0,1]))"
   ]
  },
  {
   "cell_type": "code",
   "execution_count": 55,
   "metadata": {},
   "outputs": [
    {
     "name": "stdout",
     "output_type": "stream",
     "text": [
      "Coeficiente relación entre diferencia de goles y chutes a porteria : 0.5586954200216486\n"
     ]
    }
   ],
   "source": [
    "print(\"Coeficiente relación entre diferencia de goles y chutes a porteria : \"+str(np.corrcoef(datos_hipotesis[\"Goles\"],datos_hipotesis[\"chutes_centrados\"])[0,1]))"
   ]
  },
  {
   "cell_type": "code",
   "execution_count": 56,
   "metadata": {},
   "outputs": [
    {
     "name": "stdout",
     "output_type": "stream",
     "text": [
      "Coeficiente relación entre corners y chutes a porteria : 0.18036360108680335\n"
     ]
    }
   ],
   "source": [
    "print(\"Coeficiente relación entre corners y chutes a porteria : \"+str(np.corrcoef(datos_hipotesis[\"corners\"],datos_hipotesis[\"chutes_centrados\"])[0,1]))"
   ]
  },
  {
   "cell_type": "markdown",
   "metadata": {},
   "source": [
    "## Discusión 2:\n",
    "En este caso , asumiremos la normalidad de los datos y que sean variables independientes.Se ha puesto también la correlación entre los chutes totales/chutes a porteria para ver la diferencia de comportamiento frente a la misma variable.\n",
    "Respecto a la correlación entre chutes y goles , observamos que la aparentemente hay una relación entre el número de chutes vs los goles y que esta se ve acentuada si los goles van a porteria :p.\n",
    "Ahora si nos centramos en nuestra hipótesis, podemos observar que la relación entre corners y goles es aparentemente inexistente, es decir que la hipótesis H1 es rechazada en favor de H0. Por lo tanto podemos decir que hay indicios que los corners no suponen una situación de peligro para el equipo contrario. \n",
    "Este resultado podría ser interpretado por el hecho de que ser el corner una situación a balón parado , con unas condiciones muy específicas , pueden ser estudiadas por los equipos de forma minuciosa. En los tiempos actuales con la profesionalización , la posibilidad de estudiar las técnicas de los rivales , datos , estadísticos etc.. resulta difícil que los corners sean oportunidades de gol , al menos a nivel profesional.\n",
    "Ademas si observamos la correlación entre los corner y los chutes a porteria , vemos una relación débil , lo cual nos refuerza las conclusiones anteriores.Hay cierta relación positiva, es decir puede propiciar cierto peligro de gol, pero no resulta un factor demasiado importante o decisivo para marcar ."
   ]
  }
 ],
 "metadata": {
  "interpreter": {
   "hash": "7a4880536bc750f262d1b458e4fd4d611315d3098d58b77bd9c89b3237b9ab47"
  },
  "kernelspec": {
   "display_name": "Python 3.9.7 ('base')",
   "language": "python",
   "name": "python3"
  },
  "language_info": {
   "codemirror_mode": {
    "name": "ipython",
    "version": 3
   },
   "file_extension": ".py",
   "mimetype": "text/x-python",
   "name": "python",
   "nbconvert_exporter": "python",
   "pygments_lexer": "ipython3",
   "version": "3.9.7"
  },
  "orig_nbformat": 4
 },
 "nbformat": 4,
 "nbformat_minor": 2
}
